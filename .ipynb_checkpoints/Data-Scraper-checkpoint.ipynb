{
 "cells": [
  {
   "cell_type": "code",
   "execution_count": 5,
   "metadata": {},
   "outputs": [],
   "source": [
    "import requests\n",
    "from bs4 import BeautifulSoup as bs"
   ]
  },
  {
   "cell_type": "code",
   "execution_count": 11,
   "metadata": {},
   "outputs": [
    {
     "name": "stdout",
     "output_type": "stream",
     "text": [
      "https://www.pinterest.com/search/pins/?q=joker%20comic%20art&rs=typed\n"
     ]
    }
   ],
   "source": [
    "#user input:\n",
    "search = \"joker comic art\"\n",
    "\n",
    "#convert search to form for pinterest search\n",
    "query = search.replace(\" \", \"%20\")\n",
    " \n",
    "#print(query)\n",
    "\n",
    "url = \"https://www.pinterest.com/search/pins/?q=\"+query+\"&rs=typed\"\n",
    "\n",
    "print(url)"
   ]
  },
  {
   "cell_type": "code",
   "execution_count": 18,
   "metadata": {},
   "outputs": [],
   "source": [
    "page = requests.get(url)\n",
    "src = page.content\n",
    "soup = bs(src, \"lxml\")\n",
    "images = soup.find_all(\"img\")"
   ]
  },
  {
   "cell_type": "code",
   "execution_count": 8,
   "metadata": {},
   "outputs": [],
   "source": [
    "# <a tag indicates hyperlink\n",
    "#\n",
    "# links = soup.find_all(\"joker\")\n",
    "\n",
    "# for link in links:\n",
    "#     if \"joker\" in link.text:\n",
    "#         print(link)\n",
    "#         print(link.attrs['href'])"
   ]
  },
  {
   "cell_type": "code",
   "execution_count": 15,
   "metadata": {},
   "outputs": [
    {
     "name": "stdout",
     "output_type": "stream",
     "text": [
      "[]\n"
     ]
    }
   ],
   "source": [
    "pix = []\n",
    "for img in images:\n",
    "    images.append(pix.attrs['href'])\n",
    "    \n",
    "print(pix)\n",
    "\n",
    "#for google search\n",
    "#c-wiz\n",
    "    #a\n",
    "        #img"
   ]
  },
  {
   "cell_type": "code",
   "execution_count": null,
   "metadata": {},
   "outputs": [],
   "source": [
    "https://www.google.com/search?q=apple+stuff&tbm=isch&ved=2ahUKEwjsqOXIvbrsAhUOON8KHQwgBXMQ2-cCegQIABAA&oq=apple+stuff&gs_lcp=CgNpbWcQAzICCAAyAggAMgIIADICCAAyAggAMgIIADICCAAyAggAMgIIADICCAA6BAgjECc6BwgAELEDEEM6BAgAEEM6BQgAELEDUIJuWOx0YON1aABwAHgAgAFPiAGGA5IBATaYAQCgAQGqAQtnd3Mtd2l6LWltZ8ABAQ&sclient=img&ei=kkmKX-yXBY7w_AaMwJSYBw&authuser=0&bih=594&biw=1280&hl=en\n",
    "\n",
    "https://www.google.com/search?q=joker+comic+art&tbm=isch&ved=2ahUKEwiv3oDfvLrsAhUsneAKHUXFBYUQ2-cCegQIABAA&oq=joker+comic+art&gs_lcp=CgNpbWcQAzICCAAyAggAMgIIADICCAAyAggAMgIIADICCAAyBggAEAUQHjIGCAAQBRAeMgYIABAFEB46BAgjECc6BQgAELEDOgQIABBDOgcIABCxAxBDOgYIABAIEB5QgSFY-S5ghjBoAHAAeACAAVKIAbkHkgECMTSYAQCgAQGqAQtnd3Mtd2l6LWltZ8ABAQ&sclient=img&ei=tEiKX6-0Dqy6ggfFipeoCA&bih=594&biw=1280"
   ]
  }
 ],
 "metadata": {
  "kernelspec": {
   "display_name": "Python 3",
   "language": "python",
   "name": "python3"
  },
  "language_info": {
   "codemirror_mode": {
    "name": "ipython",
    "version": 3
   },
   "file_extension": ".py",
   "mimetype": "text/x-python",
   "name": "python",
   "nbconvert_exporter": "python",
   "pygments_lexer": "ipython3",
   "version": "3.7.6"
  }
 },
 "nbformat": 4,
 "nbformat_minor": 4
}
